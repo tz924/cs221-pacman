{
 "cells": [
  {
   "cell_type": "markdown",
   "metadata": {},
   "source": [
    "Jing (Thomas) Zhang"
   ]
  },
  {
   "cell_type": "code",
   "execution_count": 101,
   "metadata": {
    "ExecuteTime": {
     "end_time": "2019-08-14T22:11:37.517000Z",
     "start_time": "2019-08-14T22:11:35.727000Z"
    }
   },
   "outputs": [],
   "source": [
    "from scipy import stats\n",
    "import numpy as np\n",
    "import pandas as pd\n",
    "from collections import defaultdict, Counter\n",
    "%matplotlib inline\n",
    "import matplotlib.pyplot as plt\n",
    "from functools import reduce\n",
    "from tqdm import tqdm\n",
    "from sklearn.linear_model import LinearRegression"
   ]
  },
  {
   "cell_type": "markdown",
   "metadata": {},
   "source": [
    "## Problem 4a"
   ]
  },
  {
   "cell_type": "markdown",
   "metadata": {},
   "source": [
    "Clearly describe your evaluation function. What is the high-level motivation? Also talk about what else you tried, what worked and what didn't."
   ]
  },
  {
   "cell_type": "markdown",
   "metadata": {},
   "source": [
    "I tried to manually tune it but I was not very lucky and I received many low scores, so I looked at the helper functions in `util.py` and found Counter, which can be essentially used as a vector, and its `__mul__` method can be used as dot product. Then I manually calculated a list of features, most of which are pretty standard (can be directed acquired from `GameState` class):\n",
    "\n",
    "- score: Current Score\n",
    "- distFood: Manhattan Distance to the closest food\n",
    "- nFood: Number of Food left\n",
    "- distScared: Manhattan Distance to the closest scared ghost\n",
    "- distGhost: Manhattan Distance to the closest non-scared ghost\n",
    "- nCap: Number of capsules left\n",
    "- distCap: Manhattan Distance to the closest capsule\n",
    "- DisWall: Distance to wall\n",
    "\n",
    "Then, I then generated 2000 sample runs basically just by randomly generate the weights and record the scores (print to file), and ran a linear regression on it. The problem with this approach is that I don't really know how to interpret the coefficient, since they are one side of the equation - I need to know how to boost Y, which is the score, but I don't have any control over X, and I don't even know the distribution of X in each game. However, at least they provided me some guidelines for later manual tuning. I simply record the learned coefficient and the weights that generate the max score I've seen, and started manual tuning.\n",
    "\n",
    "I also tried boosting the magnifying (squared) the number of ghosts or number of food but they didn't really work.\n",
    "If I had more time I would manually craft some strategies and explore more."
   ]
  },
  {
   "cell_type": "markdown",
   "metadata": {},
   "source": [
    "Sample Run:\n",
    "\n",
    "    Pacman died! Score: 170\n",
    "    Pacman emerges victorious! Score: 1097\n",
    "    Pacman emerges victorious! Score: 897\n",
    "    Pacman died! Score: -302\n",
    "    Pacman emerges victorious! Score: 902\n",
    "    Pacman emerges victorious! Score: 868\n",
    "    Pacman died! Score: -323\n",
    "    Pacman died! Score: -206\n",
    "    Pacman died! Score: 19\n",
    "    Pacman died! Score: -91\n",
    "    Pacman died! Score: -364\n",
    "    Pacman died! Score: -278\n",
    "    Pacman emerges victorious! Score: 1082\n",
    "    Pacman died! Score: -156\n",
    "    Pacman died! Score: 273\n",
    "    Pacman died! Score: -189\n",
    "    Pacman died! Score: -17\n",
    "    Pacman died! Score: -421\n",
    "    Pacman died! Score: -17\n",
    "    Pacman died! Score: 140\n",
    "    Average Score: 154.2\n",
    "    Scores:        170, 1097, 897, -302, 902, 868, -323, -206, 19, -91, -364, -278, 1082, -156, 273, -189, -17, -421, -17, 140\n",
    "    Win Rate:      5/20 (0.25)\n",
    "    Record:        Loss, Win, Win, Loss, Win, Win, Loss, Loss, Loss, Loss, Loss, Loss, Win, Loss, Loss, Loss, Loss, Loss, Loss, Loss\n",
    "    Average score of winning games: 0\n"
   ]
  },
  {
   "cell_type": "code",
   "execution_count": 114,
   "metadata": {
    "ExecuteTime": {
     "end_time": "2019-08-15T06:03:14.642000Z",
     "start_time": "2019-08-15T06:03:14.611000Z"
    }
   },
   "outputs": [],
   "source": [
    "X, Y = [], []\n",
    "with open('./train.csv') as f:\n",
    "    for line in f:\n",
    "        Xi, Yi = line.strip().split(':')\n",
    "        X.append([float(xi.strip()) for xi in Xi.split(',')])\n",
    "        Y.append(float(Yi))\n",
    "X = np.array(X)\n",
    "Y = np.array(Y)"
   ]
  },
  {
   "cell_type": "code",
   "execution_count": 123,
   "metadata": {
    "ExecuteTime": {
     "end_time": "2019-08-15T06:34:35.214000Z",
     "start_time": "2019-08-15T06:34:35.202000Z"
    }
   },
   "outputs": [
    {
     "data": {
      "text/plain": [
       "(2001L, 8L)"
      ]
     },
     "execution_count": 123,
     "metadata": {},
     "output_type": "execute_result"
    }
   ],
   "source": [
    "X.shape"
   ]
  },
  {
   "cell_type": "code",
   "execution_count": 115,
   "metadata": {
    "ExecuteTime": {
     "end_time": "2019-08-15T06:03:14.949000Z",
     "start_time": "2019-08-15T06:03:14.928000Z"
    }
   },
   "outputs": [
    {
     "data": {
      "text/plain": [
       "0.6133273547242812"
      ]
     },
     "execution_count": 115,
     "metadata": {},
     "output_type": "execute_result"
    }
   ],
   "source": [
    "model = LinearRegression()\n",
    "model.fit(X, Y)\n",
    "model.score(X, Y)"
   ]
  },
  {
   "cell_type": "code",
   "execution_count": 116,
   "metadata": {
    "ExecuteTime": {
     "end_time": "2019-08-15T06:03:19.963000Z",
     "start_time": "2019-08-15T06:03:19.952000Z"
    }
   },
   "outputs": [
    {
     "data": {
      "text/plain": [
       "array([68.22991189, -6.45392203, -4.24008784, -0.48176285, -3.49515544,\n",
       "        3.01077641, -6.35613891, 11.06070588])"
      ]
     },
     "execution_count": 116,
     "metadata": {},
     "output_type": "execute_result"
    }
   ],
   "source": [
    "model.coef_"
   ]
  },
  {
   "cell_type": "code",
   "execution_count": 122,
   "metadata": {
    "ExecuteTime": {
     "end_time": "2019-08-15T06:20:14.891000Z",
     "start_time": "2019-08-15T06:20:14.880000Z"
    }
   },
   "outputs": [
    {
     "data": {
      "text/plain": [
       "[2.4, -1.7, -2.2, -3.9, -4.0, 0.5, 2.5, 1.2]"
      ]
     },
     "execution_count": 122,
     "metadata": {},
     "output_type": "execute_result"
    }
   ],
   "source": [
    "[round(x, 1) for x in X[np.argmax(Y)]]"
   ]
  }
 ],
 "metadata": {
  "kernelspec": {
   "display_name": "Python 2",
   "language": "python",
   "name": "python2"
  },
  "language_info": {
   "codemirror_mode": {
    "name": "ipython",
    "version": 2
   },
   "file_extension": ".py",
   "mimetype": "text/x-python",
   "name": "python",
   "nbconvert_exporter": "python",
   "pygments_lexer": "ipython2",
   "version": "2.7.16"
  },
  "latex_envs": {
   "LaTeX_envs_menu_present": true,
   "autoclose": false,
   "autocomplete": true,
   "bibliofile": "biblio.bib",
   "cite_by": "apalike",
   "current_citInitial": 1,
   "eqLabelWithNumbers": true,
   "eqNumInitial": 1,
   "hotkeys": {
    "equation": "Ctrl-E",
    "itemize": "Ctrl-I"
   },
   "labels_anchors": false,
   "latex_user_defs": false,
   "report_style_numbering": false,
   "user_envs_cfg": false
  }
 },
 "nbformat": 4,
 "nbformat_minor": 2
}
