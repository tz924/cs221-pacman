{
 "cells": [
  {
   "cell_type": "markdown",
   "metadata": {},
   "source": [
    "Jing (Thomas) Zhang"
   ]
  },
  {
   "cell_type": "code",
   "execution_count": 101,
   "metadata": {
    "ExecuteTime": {
     "end_time": "2019-08-14T22:11:37.517000Z",
     "start_time": "2019-08-14T22:11:35.727000Z"
    }
   },
   "outputs": [],
   "source": [
    "from scipy import stats\n",
    "import numpy as np\n",
    "import pandas as pd\n",
    "from collections import defaultdict, Counter\n",
    "%matplotlib inline\n",
    "import matplotlib.pyplot as plt\n",
    "from functools import reduce\n",
    "from tqdm import tqdm\n",
    "from sklearn.linear_model import LinearRegression"
   ]
  },
  {
   "cell_type": "markdown",
   "metadata": {},
   "source": [
    "## Problem 4a"
   ]
  },
  {
   "cell_type": "markdown",
   "metadata": {},
   "source": [
    "Clearly describe your evaluation function. What is the high-level motivation? Also talk about what else you tried, what worked and what didn't."
   ]
  },
  {
   "cell_type": "markdown",
   "metadata": {},
   "source": [
    "I tried to manually tune it but I was not very lucky and I received many low scores, so I looked at the helper functions in `util.py` and found Counter, which can be essentially used as a vector, and its `__mul__` method can be used as dot product. I basically manually calculated a list of features, most of which are pretty standard (can be directed acquired from `GameState` class):\n",
    "\n",
    "- score: Current Score\n",
    "- distFood: Manhattan Distance to the closest food\n",
    "- nFood: Number of Food left\n",
    "- distScared: Manhattan Distance to the closest scared ghost\n",
    "- distGhost: Manhattan Distance to the closest non-scared ghost\n",
    "- nCap: Number of capsules left\n",
    "- distCap: Manhattan Distance to the closest capsule\n",
    "- DisWall: Distance to wall\n",
    "\n",
    "Then, I created a corresponding weight vector by using another `Counter` with the same keys (and values initialize to random numbers).\n",
    "Due to time constraint."
   ]
  },
  {
   "cell_type": "code",
   "execution_count": 98,
   "metadata": {
    "ExecuteTime": {
     "end_time": "2019-08-14T22:10:28.816000Z",
     "start_time": "2019-08-14T22:10:28.782000Z"
    }
   },
   "outputs": [],
   "source": [
    "X, Y = [], []\n",
    "with open('./train.txt') as f:\n",
    "    for line in f:\n",
    "        Xi, Yi = line.strip().split(':')\n",
    "        X.append([float(xi.strip()) for xi in Xi.split(',')])\n",
    "        Y.append(float(Yi))\n",
    "X = np.array(X)\n",
    "Y = np.array(Y)"
   ]
  },
  {
   "cell_type": "code",
   "execution_count": 104,
   "metadata": {
    "ExecuteTime": {
     "end_time": "2019-08-14T22:14:29.938000Z",
     "start_time": "2019-08-14T22:14:29.925000Z"
    }
   },
   "outputs": [
    {
     "data": {
      "text/plain": [
       "0.25692277391363116"
      ]
     },
     "execution_count": 104,
     "metadata": {},
     "output_type": "execute_result"
    }
   ],
   "source": [
    "model = LinearRegression()\n",
    "model.fit(X, Y)\n",
    "model.score(X, Y)"
   ]
  },
  {
   "cell_type": "code",
   "execution_count": 106,
   "metadata": {
    "ExecuteTime": {
     "end_time": "2019-08-14T22:14:54.634000Z",
     "start_time": "2019-08-14T22:14:54.622000Z"
    }
   },
   "outputs": [
    {
     "data": {
      "text/plain": [
       "array([  0.7986124 ,  -0.22948957, -16.75800939,   1.24999436,\n",
       "        -0.72538631,  -0.38637514,  -0.83274631,  -0.4227622 ])"
      ]
     },
     "execution_count": 106,
     "metadata": {},
     "output_type": "execute_result"
    }
   ],
   "source": [
    "model.coef_"
   ]
  },
  {
   "cell_type": "code",
   "execution_count": 108,
   "metadata": {
    "ExecuteTime": {
     "end_time": "2019-08-14T22:18:29.357000Z",
     "start_time": "2019-08-14T22:18:29.347000Z"
    }
   },
   "outputs": [
    {
     "data": {
      "text/plain": [
       "1435"
      ]
     },
     "execution_count": 108,
     "metadata": {},
     "output_type": "execute_result"
    }
   ],
   "source": [
    "np.argmax(Y)"
   ]
  },
  {
   "cell_type": "code",
   "execution_count": 109,
   "metadata": {
    "ExecuteTime": {
     "end_time": "2019-08-14T22:18:34.976000Z",
     "start_time": "2019-08-14T22:18:34.965000Z"
    }
   },
   "outputs": [
    {
     "data": {
      "text/plain": [
       "array([-1.90090366, -0.00869435, -2.20883162, -2.38793855,  0.8091191 ,\n",
       "       -1.7459972 , -4.75050352,  2.64918368])"
      ]
     },
     "execution_count": 109,
     "metadata": {},
     "output_type": "execute_result"
    }
   ],
   "source": [
    "X[1435]"
   ]
  },
  {
   "cell_type": "code",
   "execution_count": null,
   "metadata": {},
   "outputs": [],
   "source": []
  }
 ],
 "metadata": {
  "kernelspec": {
   "display_name": "Python 2",
   "language": "python",
   "name": "python2"
  },
  "language_info": {
   "codemirror_mode": {
    "name": "ipython",
    "version": 2
   },
   "file_extension": ".py",
   "mimetype": "text/x-python",
   "name": "python",
   "nbconvert_exporter": "python",
   "pygments_lexer": "ipython2",
   "version": "2.7.16"
  },
  "latex_envs": {
   "LaTeX_envs_menu_present": true,
   "autoclose": false,
   "autocomplete": true,
   "bibliofile": "biblio.bib",
   "cite_by": "apalike",
   "current_citInitial": 1,
   "eqLabelWithNumbers": true,
   "eqNumInitial": 1,
   "hotkeys": {
    "equation": "Ctrl-E",
    "itemize": "Ctrl-I"
   },
   "labels_anchors": false,
   "latex_user_defs": false,
   "report_style_numbering": false,
   "user_envs_cfg": false
  }
 },
 "nbformat": 4,
 "nbformat_minor": 2
}
